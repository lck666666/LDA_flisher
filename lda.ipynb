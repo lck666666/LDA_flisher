{
 "cells": [
  {
   "cell_type": "code",
   "execution_count": 482,
   "metadata": {},
   "outputs": [],
   "source": [
    "import numpy as np\n",
    "import matplotlib.pyplot as plt"
   ]
  },
  {
   "cell_type": "code",
   "execution_count": 483,
   "metadata": {},
   "outputs": [],
   "source": [
    "def meanX(data):\n",
    "    return np.mean(data, axis=0) #axis=0表示按照列来求均值，如果输入list,则axis=1"
   ]
  },
  {
   "cell_type": "code",
   "execution_count": 484,
   "metadata": {},
   "outputs": [],
   "source": [
    "#计算类内离散度矩阵子项si\n",
    "def compute_si(xi):\n",
    "    n = xi.shape[0]\n",
    "    ui = meanX(xi)\n",
    "    si = 0\n",
    "    for i in range(0, n):\n",
    "        si = si + ( xi[i, :] - ui).T * (xi[i, :] - ui )   \n",
    "    return si\n",
    "\n",
    "#计算类间离散度矩阵Sb\n",
    "def compute_Sb(x1, x2):\n",
    "    dataX=np.vstack((x1,x2))#合并样本   \n",
    "    print(\"dataX:\", dataX)\n",
    "    #计算均值\n",
    "    u1=meanX(x1)\n",
    "    u2=meanX(x2)    \n",
    "    u=meanX(dataX) #所有样本的均值\n",
    "    Sb = (u-u1).T * (u-u1) + (u-u2).T * (u-u2)\n",
    "    return Sb\n",
    "    \n",
    "        \n",
    "def LDA(x1, x2):\n",
    "    #计算类内离散度矩阵Sw\n",
    "    s1 = compute_si(x1)\n",
    "    s2 = compute_si(x2)     \n",
    "    #Sw=(n1*s1+n2*s2)/(n1+n2)\n",
    "    Sw = s1 + s2\n",
    "    \n",
    "    #计算类间离散度矩阵Sb\n",
    "    #Sb=(n1*(m-m1).T*(m-m1)+n2*(m-m2).T*(m-m2))/(n1+n2)\n",
    "    Sb = compute_Sb(x1, x2)\n",
    "    \n",
    "    #求最大特征值对应的特征向量    \n",
    "    eig_value, vec = np.linalg.eig(np.mat(Sw).I*Sb)#特征值和特征向量\n",
    "    index_vec = np.argsort(-eig_value)#对eig_value从大到小排序，返回索引\n",
    "    eig_index = index_vec[:1] #取出最大的特征值的索引\n",
    "    w = vec[:, eig_index] #取出最大的特征值对应的特征向量\n",
    "    return w"
   ]
  },
  {
   "cell_type": "code",
   "execution_count": 485,
   "metadata": {},
   "outputs": [
    {
     "name": "stdout",
     "output_type": "stream",
     "text": [
      "x1: [[11.17359919 10.07333889]\n",
      " [10.60814618  9.8558778 ]\n",
      " [ 9.32653019  9.33486424]\n",
      " [ 7.89714085  8.7886311 ]\n",
      " [10.15466087 10.22483399]\n",
      " [ 8.41688306 10.33508853]\n",
      " [ 7.16423497 10.47718475]\n",
      " [ 8.85712819  8.62473189]\n",
      " [ 7.16700134 11.86964428]\n",
      " [ 8.93342298 11.4400263 ]\n",
      " [11.59607089 10.3740514 ]\n",
      " [ 9.22674052  7.82198437]\n",
      " [11.18404935  7.47823451]\n",
      " [ 7.65643483  8.18104956]\n",
      " [ 7.54481811  7.99037452]\n",
      " [ 7.23508478  8.54430307]\n",
      " [ 8.60029973 11.96652577]\n",
      " [ 9.60496635  9.74554093]\n",
      " [ 8.36630334  7.53386742]\n",
      " [ 9.03676056 10.12759831]\n",
      " [ 7.0444713   8.62074073]\n",
      " [ 8.81072983  8.52988104]\n",
      " [ 9.14930593 11.29730218]\n",
      " [ 9.93334413  9.41108041]\n",
      " [ 9.26284895 10.6817977 ]\n",
      " [ 8.27044361 10.5308548 ]\n",
      " [ 8.70064142 11.1822376 ]\n",
      " [ 8.57504614 11.14396908]\n",
      " [ 8.30559618  8.76255578]\n",
      " [10.83075942  7.76712086]]\n",
      "x2: [[3.46020668 6.43390383]\n",
      " [5.50815414 5.5771738 ]\n",
      " [4.55064067 3.4648517 ]\n",
      " [3.11445239 2.38619609]\n",
      " [5.97784789 5.47701255]\n",
      " [3.19644336 3.99825541]\n",
      " [4.52013794 3.41479358]\n",
      " [4.90121218 2.45050129]\n",
      " [4.1006069  5.00807818]\n",
      " [4.92814405 2.28121056]\n",
      " [3.37868767 4.91973566]\n",
      " [2.13026913 2.75564299]\n",
      " [2.0646315  3.07540159]\n",
      " [6.27981067 3.0944694 ]\n",
      " [4.15415197 3.1918306 ]\n",
      " [2.88446726 3.69632273]\n",
      " [3.46962879 5.10584909]\n",
      " [6.67362476 4.15583153]\n",
      " [2.0778404  4.00911152]\n",
      " [4.70466528 4.76648092]\n",
      " [4.77404547 2.33337988]\n",
      " [2.21720462 5.38392825]\n",
      " [5.73733432 4.43610105]\n",
      " [2.34248927 4.35274173]\n",
      " [4.89240516 3.73440839]\n",
      " [4.98066082 4.16628406]\n",
      " [4.34264675 2.99401928]\n",
      " [3.46124925 6.65091627]\n",
      " [6.68434729 5.983783  ]\n",
      " [4.32852897 5.6170988 ]]\n"
     ]
    }
   ],
   "source": [
    "def createDataSet():  \n",
    "    X1 = np.mat(np.random.random((30, 2)) * 5 + 7)  #类别A\n",
    "    X2 = np.mat(np.random.random((30, 2)) * 5 + 2)   #类别B\n",
    "    return X1, X2  \n",
    "\n",
    "x1, x2 = createDataSet()\n",
    "\n",
    "print('x1:',x1)\n",
    "print('x2:',x2)"
   ]
  },
  {
   "cell_type": "code",
   "execution_count": 486,
   "metadata": {},
   "outputs": [
    {
     "name": "stdout",
     "output_type": "stream",
     "text": [
      "dataX: [[11.17359919 10.07333889]\n",
      " [10.60814618  9.8558778 ]\n",
      " [ 9.32653019  9.33486424]\n",
      " [ 7.89714085  8.7886311 ]\n",
      " [10.15466087 10.22483399]\n",
      " [ 8.41688306 10.33508853]\n",
      " [ 7.16423497 10.47718475]\n",
      " [ 8.85712819  8.62473189]\n",
      " [ 7.16700134 11.86964428]\n",
      " [ 8.93342298 11.4400263 ]\n",
      " [11.59607089 10.3740514 ]\n",
      " [ 9.22674052  7.82198437]\n",
      " [11.18404935  7.47823451]\n",
      " [ 7.65643483  8.18104956]\n",
      " [ 7.54481811  7.99037452]\n",
      " [ 7.23508478  8.54430307]\n",
      " [ 8.60029973 11.96652577]\n",
      " [ 9.60496635  9.74554093]\n",
      " [ 8.36630334  7.53386742]\n",
      " [ 9.03676056 10.12759831]\n",
      " [ 7.0444713   8.62074073]\n",
      " [ 8.81072983  8.52988104]\n",
      " [ 9.14930593 11.29730218]\n",
      " [ 9.93334413  9.41108041]\n",
      " [ 9.26284895 10.6817977 ]\n",
      " [ 8.27044361 10.5308548 ]\n",
      " [ 8.70064142 11.1822376 ]\n",
      " [ 8.57504614 11.14396908]\n",
      " [ 8.30559618  8.76255578]\n",
      " [10.83075942  7.76712086]\n",
      " [ 3.46020668  6.43390383]\n",
      " [ 5.50815414  5.5771738 ]\n",
      " [ 4.55064067  3.4648517 ]\n",
      " [ 3.11445239  2.38619609]\n",
      " [ 5.97784789  5.47701255]\n",
      " [ 3.19644336  3.99825541]\n",
      " [ 4.52013794  3.41479358]\n",
      " [ 4.90121218  2.45050129]\n",
      " [ 4.1006069   5.00807818]\n",
      " [ 4.92814405  2.28121056]\n",
      " [ 3.37868767  4.91973566]\n",
      " [ 2.13026913  2.75564299]\n",
      " [ 2.0646315   3.07540159]\n",
      " [ 6.27981067  3.0944694 ]\n",
      " [ 4.15415197  3.1918306 ]\n",
      " [ 2.88446726  3.69632273]\n",
      " [ 3.46962879  5.10584909]\n",
      " [ 6.67362476  4.15583153]\n",
      " [ 2.0778404   4.00911152]\n",
      " [ 4.70466528  4.76648092]\n",
      " [ 4.77404547  2.33337988]\n",
      " [ 2.21720462  5.38392825]\n",
      " [ 5.73733432  4.43610105]\n",
      " [ 2.34248927  4.35274173]\n",
      " [ 4.89240516  3.73440839]\n",
      " [ 4.98066082  4.16628406]\n",
      " [ 4.34264675  2.99401928]\n",
      " [ 3.46124925  6.65091627]\n",
      " [ 6.68434729  5.983783  ]\n",
      " [ 4.32852897  5.6170988 ]]\n",
      "w: [[-0.64887197]\n",
      " [-0.76089761]]\n"
     ]
    }
   ],
   "source": [
    "w = LDA(x1, x2)\n",
    "print(\"w:\",w)"
   ]
  },
  {
   "cell_type": "code",
   "execution_count": 487,
   "metadata": {
    "scrolled": true
   },
   "outputs": [
    {
     "data": {
      "image/png": "[encoded data removed]",
      "text/plain": [
       "<Figure size 432x288 with 1 Axes>"
      ]
     },
     "metadata": {
      "needs_background": "light"
     },
     "output_type": "display_data"
    }
   ],
   "source": [
    "fig = plt.figure()  \n",
    "plt.ylim(0, 20)  \n",
    "plt.xlim(0, 20)  \n",
    "#    ax = fig.add_subplot(111)  \n",
    "#    ax.scatter(group[0,:].tolist(), group[1,:].tolist())  \n",
    "plt.scatter(x1[:,0].tolist(),x1[:,1].tolist(),c='y')\n",
    "plt.scatter(x2[:,0].tolist(),x2[:,1].tolist(),c='b')\n",
    "plt.show()"
   ]
  },
  {
   "cell_type": "code",
   "execution_count": 488,
   "metadata": {},
   "outputs": [],
   "source": [
    "nums = 500\n",
    "def Testdataset():\n",
    "    X1 = np.mat(np.random.random((nums, 2)) * 5 + 7)  #类别A\n",
    "    X2 = np.mat(np.random.random((nums, 2)) * 5 + 2)   #类别B\n",
    "    return X1, X2  \n",
    "x1_test,x2_test = Testdataset()\n",
    "y_true = []\n",
    "for i in range(nums*2):\n",
    "    if i< (nums):\n",
    "        y_true.append(1)\n",
    "    else:\n",
    "        y_true.append(0)\n",
    "#print(y_true)"
   ]
  },
  {
   "cell_type": "code",
   "execution_count": 489,
   "metadata": {},
   "outputs": [
    {
     "name": "stdout",
     "output_type": "stream",
     "text": [
      "X_test: [[11.71372945 11.68179591]\n",
      " [ 9.29141582 11.40328866]\n",
      " [ 8.50269788  9.32443882]\n",
      " ...\n",
      " [ 3.4441044   4.53533913]\n",
      " [ 4.03323959  6.40425151]\n",
      " [ 5.66580117  2.89459863]]\n"
     ]
    }
   ],
   "source": [
    "u1=meanX(x1)\n",
    "u2=meanX(x2) \n",
    "c1 = np.dot(w.T,u1.T)\n",
    "c2 = np.dot(w.T,u2.T)\n",
    "X = np.vstack((x1_test,x2_test))\n",
    "print('X_test:',X)"
   ]
  },
  {
   "cell_type": "code",
   "execution_count": 490,
   "metadata": {},
   "outputs": [],
   "source": [
    "def Test(X,Y_true,w):\n",
    "    y_pre = []\n",
    "    print(len(X))\n",
    "    for i in range(len(X)):\n",
    "        y_proj = np.dot(w.T,X[i,:].T)\n",
    "        d1 = abs(y_proj-c1)\n",
    "        d2 = abs(y_proj-c2)\n",
    "        if(d1 >= d2):\n",
    "            y_pre.append(0)\n",
    "        else:\n",
    "            y_pre.append(1)\n",
    "    count = 0\n",
    "    for i in range(len(X)):\n",
    "        if(y_pre[i] == y_true[i]):\n",
    "            count += 1\n",
    "    precise = count/len(X)\n",
    "#    print(y_pre)\n",
    "    print(\"Test precise:\", precise)\n",
    "    return precise"
   ]
  },
  {
   "cell_type": "code",
   "execution_count": 491,
   "metadata": {},
   "outputs": [
    {
     "name": "stdout",
     "output_type": "stream",
     "text": [
      "1000\n",
      "Test precise: 0.999\n"
     ]
    },
    {
     "data": {
      "text/plain": [
       "0.999"
      ]
     },
     "execution_count": 491,
     "metadata": {},
     "output_type": "execute_result"
    }
   ],
   "source": [
    "Test(X,y_true,w)"
   ]
  },
  {
   "cell_type": "code",
   "execution_count": null,
   "metadata": {},
   "outputs": [],
   "source": []
  },
  {
   "cell_type": "code",
   "execution_count": null,
   "metadata": {},
   "outputs": [],
   "source": []
  }
 ],
 "metadata": {
  "kernelspec": {
   "display_name": "Python 3",
   "language": "python",
   "name": "python3"
  },
  "language_info": {
   "codemirror_mode": {
    "name": "ipython",
    "version": 3
   },
   "file_extension": ".py",
   "mimetype": "text/x-python",
   "name": "python",
   "nbconvert_exporter": "python",
   "pygments_lexer": "ipython3",
   "version": "3.6.8"
  }
 },
 "nbformat": 4,
 "nbformat_minor": 2
}
